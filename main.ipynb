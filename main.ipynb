{
 "cells": [
  {
   "cell_type": "code",
   "execution_count": 1,
   "metadata": {},
   "outputs": [],
   "source": [
    "from sklearn.preprocessing import StandardScaler\n",
    "from src.evaluation import compute_score\n",
    "from src.LDPSC import LDP_SC #our algorithm\n",
    "import scipy.io as scio\n",
    "import numpy as np"
   ]
  },
  {
   "cell_type": "markdown",
   "metadata": {},
   "source": [
    "### Synthetic Data"
   ]
  },
  {
   "cell_type": "code",
   "execution_count": null,
   "metadata": {},
   "outputs": [],
   "source": [
    "data=np.loadtxt('./data/synthetic/Aggregation.txt')\n",
    "# data=np.loadtxt('./data/synthetic/circle.txt')\n",
    "# data=np.loadtxt('./data/synthetic/Flame.txt')\n",
    "# data=np.loadtxt('./data/synthetic/happy.txt')\n",
    "# data=np.loadtxt('./data/synthetic/Jain.txt')\n",
    "# data=np.loadtxt('./data/synthetic/R15.txt')\n",
    "# data=np.loadtxt('./data/synthetic/s2.txt')\n",
    "# data=np.loadtxt('./data/synthetic/Spiral.txt')\n",
    "x=data[:,1:]\n",
    "y=data[:,0]\n",
    "ss_x = StandardScaler()\n",
    "x = ss_x.fit_transform(x)\n",
    "cluster_num=len(np.unique(y))\n",
    "print(x.shape,len(np.unique(y)))"
   ]
  },
  {
   "cell_type": "markdown",
   "metadata": {},
   "source": [
    "### Real-world Data"
   ]
  },
  {
   "cell_type": "code",
   "execution_count": null,
   "metadata": {},
   "outputs": [],
   "source": [
    "data = scio.loadmat('./data/realworld/Pendigits.mat')\n",
    "# data = scio.loadmat('./data/realworld/covertype.mat')\n",
    "# data = scio.loadmat('./data/realworld/landsatEW.mat')\n",
    "# data = scio.loadmat('./data/realworld/mfea-fac.mat')\n",
    "# data = scio.loadmat('./data/realworld/parkinsonsEW.mat')\n",
    "# data = scio.loadmat('./data/realworld/pengleukEW.mat')\n",
    "# data = scio.loadmat('./data/realworld/seeds.mat')\n",
    "# data = scio.loadmat('./data/realworld/spect.mat')\n",
    "x=data['data']\n",
    "y=data['labels']\n",
    "s_x=StandardScaler()\n",
    "x=s_x.fit_transform(x)\n",
    "y=y.reshape(y.shape[0])\n",
    "cluster_num=len(np.unique(y))\n",
    "print(x.shape)"
   ]
  },
  {
   "cell_type": "markdown",
   "metadata": {},
   "source": [
    "### Image Data (currently not included in the repository due to potential license issues)"
   ]
  },
  {
   "cell_type": "code",
   "execution_count": null,
   "metadata": {},
   "outputs": [],
   "source": [
    "data = scio.loadmat('./data/Image_data/ORL.mat')\n",
    "x=data['X']\n",
    "y=data['Y']\n",
    "y=y.reshape(len(y))\n",
    "cluster_num=len(np.unique(y))"
   ]
  },
  {
   "cell_type": "code",
   "execution_count": null,
   "metadata": {},
   "outputs": [],
   "source": [
    "data = scio.loadmat('./data/Image_data/YaleB_32x32.mat')\n",
    "x=data['fea']\n",
    "y=data['gnd']\n",
    "x=x/255\n",
    "y=y.reshape(len(y))\n",
    "cluster_num=len(np.unique(y))"
   ]
  },
  {
   "cell_type": "code",
   "execution_count": null,
   "metadata": {},
   "outputs": [],
   "source": [
    "data = scio.loadmat('./data/Image_data/COIL20.mat')\n",
    "x=data['X']\n",
    "y=data['Y']\n",
    "y=y.reshape(len(y))\n",
    "cluster_num=len(np.unique(y))"
   ]
  },
  {
   "cell_type": "code",
   "execution_count": 2,
   "metadata": {},
   "outputs": [],
   "source": [
    "data = scio.loadmat('./data/Image_data/USPS.mat')\n",
    "x=data['X']\n",
    "y=data['Y']\n",
    "y=y.reshape(len(y))\n",
    "cluster_num=len(np.unique(y))"
   ]
  },
  {
   "cell_type": "code",
   "execution_count": null,
   "metadata": {},
   "outputs": [],
   "source": [
    "data = scio.loadmat('./data/Image_data/fashion_mnist.mat')\n",
    "x=data['X']\n",
    "y=data['Y'].T\n",
    "x=x/255\n",
    "y=y.reshape(len(y))\n",
    "cluster_num=len(np.unique(y))"
   ]
  },
  {
   "cell_type": "code",
   "execution_count": null,
   "metadata": {},
   "outputs": [],
   "source": [
    "data = scio.loadmat('./data/Image_data/mnist.mat')\n",
    "x=data['data'].T\n",
    "y=data['label'].T\n",
    "x=x/255\n",
    "y=y.reshape(len(y))\n",
    "cluster_num=len(np.unique(y))"
   ]
  },
  {
   "cell_type": "markdown",
   "metadata": {},
   "source": [
    "### Clustering"
   ]
  },
  {
   "cell_type": "code",
   "execution_count": 3,
   "metadata": {},
   "outputs": [],
   "source": [
    "y_predict=LDP_SC(x,cluster_num,4)#data,cluster number, Number of neighbors"
   ]
  },
  {
   "cell_type": "code",
   "execution_count": 4,
   "metadata": {},
   "outputs": [
    {
     "name": "stdout",
     "output_type": "stream",
     "text": [
      "ARI: 91.91\n",
      "NMI: 90.03\n",
      "ACC: 95.81\n"
     ]
    }
   ],
   "source": [
    "ARI,NMI,ACC=compute_score(y_predict,y)#score\n",
    "print('ARI: {a:.2f}\\nNMI: {b:.2f}\\nACC: {c:.2f}'.format(a = ARI,b = NMI,c = ACC))"
   ]
  },
  {
   "cell_type": "code",
   "execution_count": null,
   "metadata": {},
   "outputs": [],
   "source": []
  }
 ],
 "metadata": {
  "interpreter": {
   "hash": "d4fae1425e5903862e2ce93353ef2c00cc1e1a3113f812b69bf6eccec499778a"
  },
  "kernelspec": {
   "display_name": "Python 3.9.7 ('py39')",
   "language": "python",
   "name": "python3"
  },
  "language_info": {
   "codemirror_mode": {
    "name": "ipython",
    "version": 3
   },
   "file_extension": ".py",
   "mimetype": "text/x-python",
   "name": "python",
   "nbconvert_exporter": "python",
   "pygments_lexer": "ipython3",
   "version": "3.9.7"
  },
  "orig_nbformat": 4
 },
 "nbformat": 4,
 "nbformat_minor": 2
}
